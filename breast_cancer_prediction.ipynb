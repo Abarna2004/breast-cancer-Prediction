{
  "nbformat": 4,
  "nbformat_minor": 0,
  "metadata": {
    "colab": {
      "provenance": []
    },
    "kernelspec": {
      "name": "python3",
      "display_name": "Python 3"
    },
    "language_info": {
      "name": "python"
    }
  },
  "cells": [
    {
      "cell_type": "markdown",
      "source": [
        "# **Breast Cancer prediction**"
      ],
      "metadata": {
        "id": "prRGuQ-SSVeU"
      }
    },
    {
      "cell_type": "code",
      "execution_count": 1,
      "metadata": {
        "id": "e5NRXNCHOk2S",
        "colab": {
          "base_uri": "https://localhost:8080/"
        },
        "outputId": "c6ffa964-84ea-4a35-c2e0-1b8641da38ea"
      },
      "outputs": [
        {
          "output_type": "stream",
          "name": "stdout",
          "text": [
            "Mounted at /content/drive/\n"
          ]
        },
        {
          "output_type": "execute_result",
          "data": {
            "text/plain": [
              "Index(['id', 'diagnosis', 'radius_mean', 'texture_mean', 'perimeter_mean',\n",
              "       'area_mean', 'smoothness_mean', 'compactness_mean', 'concavity_mean',\n",
              "       'concave points_mean', 'symmetry_mean', 'fractal_dimension_mean',\n",
              "       'radius_se', 'texture_se', 'perimeter_se', 'area_se', 'smoothness_se',\n",
              "       'compactness_se', 'concavity_se', 'concave points_se', 'symmetry_se',\n",
              "       'fractal_dimension_se', 'radius_worst', 'texture_worst',\n",
              "       'perimeter_worst', 'area_worst', 'smoothness_worst',\n",
              "       'compactness_worst', 'concavity_worst', 'concave points_worst',\n",
              "       'symmetry_worst', 'fractal_dimension_worst', 'Unnamed: 32'],\n",
              "      dtype='object')"
            ]
          },
          "metadata": {},
          "execution_count": 1
        }
      ],
      "source": [
        "import pandas as pd\n",
        "from google.colab import drive\n",
        "drive.mount('/content/drive/')\n",
        "data = pd.read_csv('/content/drive/MyDrive/cancerdata.csv')\n",
        "data.columns\n"
      ]
    },
    {
      "cell_type": "code",
      "source": [
        "!pip install numpy pandas scikit-learn tensorflow\n"
      ],
      "metadata": {
        "colab": {
          "base_uri": "https://localhost:8080/"
        },
        "id": "95aiCUmBRHmJ",
        "outputId": "28ae56db-3f9e-4b2c-c85c-b75427c6a415"
      },
      "execution_count": 2,
      "outputs": [
        {
          "output_type": "stream",
          "name": "stdout",
          "text": [
            "Requirement already satisfied: numpy in /usr/local/lib/python3.10/dist-packages (1.23.5)\n",
            "Requirement already satisfied: pandas in /usr/local/lib/python3.10/dist-packages (1.5.3)\n",
            "Requirement already satisfied: scikit-learn in /usr/local/lib/python3.10/dist-packages (1.2.2)\n",
            "Requirement already satisfied: tensorflow in /usr/local/lib/python3.10/dist-packages (2.13.0)\n",
            "Requirement already satisfied: python-dateutil>=2.8.1 in /usr/local/lib/python3.10/dist-packages (from pandas) (2.8.2)\n",
            "Requirement already satisfied: pytz>=2020.1 in /usr/local/lib/python3.10/dist-packages (from pandas) (2023.3.post1)\n",
            "Requirement already satisfied: scipy>=1.3.2 in /usr/local/lib/python3.10/dist-packages (from scikit-learn) (1.11.3)\n",
            "Requirement already satisfied: joblib>=1.1.1 in /usr/local/lib/python3.10/dist-packages (from scikit-learn) (1.3.2)\n",
            "Requirement already satisfied: threadpoolctl>=2.0.0 in /usr/local/lib/python3.10/dist-packages (from scikit-learn) (3.2.0)\n",
            "Requirement already satisfied: absl-py>=1.0.0 in /usr/local/lib/python3.10/dist-packages (from tensorflow) (1.4.0)\n",
            "Requirement already satisfied: astunparse>=1.6.0 in /usr/local/lib/python3.10/dist-packages (from tensorflow) (1.6.3)\n",
            "Requirement already satisfied: flatbuffers>=23.1.21 in /usr/local/lib/python3.10/dist-packages (from tensorflow) (23.5.26)\n",
            "Requirement already satisfied: gast<=0.4.0,>=0.2.1 in /usr/local/lib/python3.10/dist-packages (from tensorflow) (0.4.0)\n",
            "Requirement already satisfied: google-pasta>=0.1.1 in /usr/local/lib/python3.10/dist-packages (from tensorflow) (0.2.0)\n",
            "Requirement already satisfied: grpcio<2.0,>=1.24.3 in /usr/local/lib/python3.10/dist-packages (from tensorflow) (1.59.0)\n",
            "Requirement already satisfied: h5py>=2.9.0 in /usr/local/lib/python3.10/dist-packages (from tensorflow) (3.9.0)\n",
            "Requirement already satisfied: keras<2.14,>=2.13.1 in /usr/local/lib/python3.10/dist-packages (from tensorflow) (2.13.1)\n",
            "Requirement already satisfied: libclang>=13.0.0 in /usr/local/lib/python3.10/dist-packages (from tensorflow) (16.0.6)\n",
            "Requirement already satisfied: opt-einsum>=2.3.2 in /usr/local/lib/python3.10/dist-packages (from tensorflow) (3.3.0)\n",
            "Requirement already satisfied: packaging in /usr/local/lib/python3.10/dist-packages (from tensorflow) (23.2)\n",
            "Requirement already satisfied: protobuf!=4.21.0,!=4.21.1,!=4.21.2,!=4.21.3,!=4.21.4,!=4.21.5,<5.0.0dev,>=3.20.3 in /usr/local/lib/python3.10/dist-packages (from tensorflow) (3.20.3)\n",
            "Requirement already satisfied: setuptools in /usr/local/lib/python3.10/dist-packages (from tensorflow) (67.7.2)\n",
            "Requirement already satisfied: six>=1.12.0 in /usr/local/lib/python3.10/dist-packages (from tensorflow) (1.16.0)\n",
            "Requirement already satisfied: tensorboard<2.14,>=2.13 in /usr/local/lib/python3.10/dist-packages (from tensorflow) (2.13.0)\n",
            "Requirement already satisfied: tensorflow-estimator<2.14,>=2.13.0 in /usr/local/lib/python3.10/dist-packages (from tensorflow) (2.13.0)\n",
            "Requirement already satisfied: termcolor>=1.1.0 in /usr/local/lib/python3.10/dist-packages (from tensorflow) (2.3.0)\n",
            "Requirement already satisfied: typing-extensions<4.6.0,>=3.6.6 in /usr/local/lib/python3.10/dist-packages (from tensorflow) (4.5.0)\n",
            "Requirement already satisfied: wrapt>=1.11.0 in /usr/local/lib/python3.10/dist-packages (from tensorflow) (1.15.0)\n",
            "Requirement already satisfied: tensorflow-io-gcs-filesystem>=0.23.1 in /usr/local/lib/python3.10/dist-packages (from tensorflow) (0.34.0)\n",
            "Requirement already satisfied: wheel<1.0,>=0.23.0 in /usr/local/lib/python3.10/dist-packages (from astunparse>=1.6.0->tensorflow) (0.41.2)\n",
            "Requirement already satisfied: google-auth<3,>=1.6.3 in /usr/local/lib/python3.10/dist-packages (from tensorboard<2.14,>=2.13->tensorflow) (2.17.3)\n",
            "Requirement already satisfied: google-auth-oauthlib<1.1,>=0.5 in /usr/local/lib/python3.10/dist-packages (from tensorboard<2.14,>=2.13->tensorflow) (1.0.0)\n",
            "Requirement already satisfied: markdown>=2.6.8 in /usr/local/lib/python3.10/dist-packages (from tensorboard<2.14,>=2.13->tensorflow) (3.5)\n",
            "Requirement already satisfied: requests<3,>=2.21.0 in /usr/local/lib/python3.10/dist-packages (from tensorboard<2.14,>=2.13->tensorflow) (2.31.0)\n",
            "Requirement already satisfied: tensorboard-data-server<0.8.0,>=0.7.0 in /usr/local/lib/python3.10/dist-packages (from tensorboard<2.14,>=2.13->tensorflow) (0.7.1)\n",
            "Requirement already satisfied: werkzeug>=1.0.1 in /usr/local/lib/python3.10/dist-packages (from tensorboard<2.14,>=2.13->tensorflow) (3.0.0)\n",
            "Requirement already satisfied: cachetools<6.0,>=2.0.0 in /usr/local/lib/python3.10/dist-packages (from google-auth<3,>=1.6.3->tensorboard<2.14,>=2.13->tensorflow) (5.3.1)\n",
            "Requirement already satisfied: pyasn1-modules>=0.2.1 in /usr/local/lib/python3.10/dist-packages (from google-auth<3,>=1.6.3->tensorboard<2.14,>=2.13->tensorflow) (0.3.0)\n",
            "Requirement already satisfied: rsa<5,>=3.1.4 in /usr/local/lib/python3.10/dist-packages (from google-auth<3,>=1.6.3->tensorboard<2.14,>=2.13->tensorflow) (4.9)\n",
            "Requirement already satisfied: requests-oauthlib>=0.7.0 in /usr/local/lib/python3.10/dist-packages (from google-auth-oauthlib<1.1,>=0.5->tensorboard<2.14,>=2.13->tensorflow) (1.3.1)\n",
            "Requirement already satisfied: charset-normalizer<4,>=2 in /usr/local/lib/python3.10/dist-packages (from requests<3,>=2.21.0->tensorboard<2.14,>=2.13->tensorflow) (3.3.0)\n",
            "Requirement already satisfied: idna<4,>=2.5 in /usr/local/lib/python3.10/dist-packages (from requests<3,>=2.21.0->tensorboard<2.14,>=2.13->tensorflow) (3.4)\n",
            "Requirement already satisfied: urllib3<3,>=1.21.1 in /usr/local/lib/python3.10/dist-packages (from requests<3,>=2.21.0->tensorboard<2.14,>=2.13->tensorflow) (2.0.7)\n",
            "Requirement already satisfied: certifi>=2017.4.17 in /usr/local/lib/python3.10/dist-packages (from requests<3,>=2.21.0->tensorboard<2.14,>=2.13->tensorflow) (2023.7.22)\n",
            "Requirement already satisfied: MarkupSafe>=2.1.1 in /usr/local/lib/python3.10/dist-packages (from werkzeug>=1.0.1->tensorboard<2.14,>=2.13->tensorflow) (2.1.3)\n",
            "Requirement already satisfied: pyasn1<0.6.0,>=0.4.6 in /usr/local/lib/python3.10/dist-packages (from pyasn1-modules>=0.2.1->google-auth<3,>=1.6.3->tensorboard<2.14,>=2.13->tensorflow) (0.5.0)\n",
            "Requirement already satisfied: oauthlib>=3.0.0 in /usr/local/lib/python3.10/dist-packages (from requests-oauthlib>=0.7.0->google-auth-oauthlib<1.1,>=0.5->tensorboard<2.14,>=2.13->tensorflow) (3.2.2)\n"
          ]
        }
      ]
    },
    {
      "cell_type": "markdown",
      "source": [
        "**Import the required libraries**"
      ],
      "metadata": {
        "id": "4Ho2-yRpSoHR"
      }
    },
    {
      "cell_type": "code",
      "source": [
        "import numpy as np\n",
        "import pandas as pd\n",
        "from sklearn.model_selection import train_test_split\n",
        "from sklearn.preprocessing import StandardScaler\n",
        "from sklearn.metrics import accuracy_score, confusion_matrix\n",
        "import tensorflow as tf\n",
        "from tensorflow import keras\n"
      ],
      "metadata": {
        "id": "HE9PAh9hRMkd"
      },
      "execution_count": 3,
      "outputs": []
    },
    {
      "cell_type": "markdown",
      "source": [
        "**Load and preprocess the dataset**"
      ],
      "metadata": {
        "id": "w4tl3qpDSzjM"
      }
    },
    {
      "cell_type": "code",
      "source": [
        "# Load the dataset\n",
        "data = pd.read_csv(\"/content/drive/MyDrive/cancerdata.csv\")\n",
        "\n",
        "# Drop the 'id' column and 'Unnamed: 32' if necessary\n",
        "data = data.drop(['id', 'Unnamed: 32'], axis=1)\n",
        "\n",
        "# Convert the 'diagnosis' column to binary labels (Malignant = 1, Benign = 0)\n",
        "data['diagnosis'] = (data['diagnosis'] == 'M').astype(int)\n",
        "\n",
        "# Split the data into features and labels\n",
        "X = data.drop('diagnosis', axis=1)\n",
        "y = data['diagnosis']\n",
        "\n",
        "# Split the data into training and testing sets\n",
        "X_train, X_test, y_train, y_test = train_test_split(X, y, test_size=0.2, random_state=42)\n",
        "\n",
        "# Standardize the features\n",
        "scaler = StandardScaler()\n",
        "X_train = scaler.fit_transform(X_train)\n",
        "X_test = scaler.transform(X_test)\n"
      ],
      "metadata": {
        "id": "_1cf9GASRMnM"
      },
      "execution_count": 4,
      "outputs": []
    },
    {
      "cell_type": "markdown",
      "source": [
        "**Build the neural network model**"
      ],
      "metadata": {
        "id": "IBSueskTS5bJ"
      }
    },
    {
      "cell_type": "code",
      "source": [
        "model = keras.Sequential([\n",
        "    keras.layers.Dense(64, activation='relu', input_shape=(X_train.shape[1],)),\n",
        "    keras.layers.Dense(32, activation='relu'),\n",
        "    keras.layers.Dense(1, activation='sigmoid')\n",
        "])\n",
        "\n",
        "# Compile the model\n",
        "model.compile(optimizer='adam', loss='binary_crossentropy', metrics=['accuracy'])\n",
        "\n",
        "# Train the model\n",
        "model.fit(X_train, y_train, epochs=50, batch_size=32, validation_split=0.2)\n"
      ],
      "metadata": {
        "colab": {
          "base_uri": "https://localhost:8080/"
        },
        "id": "zQcwR6kzRMqk",
        "outputId": "49c8ec87-8277-4598-b3ef-7305356f9ea5"
      },
      "execution_count": 5,
      "outputs": [
        {
          "output_type": "stream",
          "name": "stdout",
          "text": [
            "Epoch 1/50\n",
            "12/12 [==============================] - 1s 30ms/step - loss: 0.4484 - accuracy: 0.8324 - val_loss: 0.3352 - val_accuracy: 0.8791\n",
            "Epoch 2/50\n",
            "12/12 [==============================] - 0s 13ms/step - loss: 0.2489 - accuracy: 0.9505 - val_loss: 0.2203 - val_accuracy: 0.9670\n",
            "Epoch 3/50\n",
            "12/12 [==============================] - 0s 9ms/step - loss: 0.1665 - accuracy: 0.9615 - val_loss: 0.1710 - val_accuracy: 0.9670\n",
            "Epoch 4/50\n",
            "12/12 [==============================] - 0s 6ms/step - loss: 0.1262 - accuracy: 0.9725 - val_loss: 0.1464 - val_accuracy: 0.9670\n",
            "Epoch 5/50\n",
            "12/12 [==============================] - 0s 7ms/step - loss: 0.1030 - accuracy: 0.9780 - val_loss: 0.1331 - val_accuracy: 0.9560\n",
            "Epoch 6/50\n",
            "12/12 [==============================] - 0s 10ms/step - loss: 0.0895 - accuracy: 0.9780 - val_loss: 0.1268 - val_accuracy: 0.9451\n",
            "Epoch 7/50\n",
            "12/12 [==============================] - 0s 7ms/step - loss: 0.0774 - accuracy: 0.9808 - val_loss: 0.1207 - val_accuracy: 0.9451\n",
            "Epoch 8/50\n",
            "12/12 [==============================] - 0s 13ms/step - loss: 0.0699 - accuracy: 0.9835 - val_loss: 0.1158 - val_accuracy: 0.9451\n",
            "Epoch 9/50\n",
            "12/12 [==============================] - 0s 9ms/step - loss: 0.0626 - accuracy: 0.9863 - val_loss: 0.1137 - val_accuracy: 0.9451\n",
            "Epoch 10/50\n",
            "12/12 [==============================] - 0s 6ms/step - loss: 0.0572 - accuracy: 0.9863 - val_loss: 0.1113 - val_accuracy: 0.9451\n",
            "Epoch 11/50\n",
            "12/12 [==============================] - 0s 8ms/step - loss: 0.0528 - accuracy: 0.9863 - val_loss: 0.1095 - val_accuracy: 0.9451\n",
            "Epoch 12/50\n",
            "12/12 [==============================] - 0s 6ms/step - loss: 0.0483 - accuracy: 0.9863 - val_loss: 0.1072 - val_accuracy: 0.9451\n",
            "Epoch 13/50\n",
            "12/12 [==============================] - 0s 5ms/step - loss: 0.0450 - accuracy: 0.9890 - val_loss: 0.1074 - val_accuracy: 0.9451\n",
            "Epoch 14/50\n",
            "12/12 [==============================] - 0s 7ms/step - loss: 0.0413 - accuracy: 0.9890 - val_loss: 0.1060 - val_accuracy: 0.9560\n",
            "Epoch 15/50\n",
            "12/12 [==============================] - 0s 14ms/step - loss: 0.0388 - accuracy: 0.9890 - val_loss: 0.1068 - val_accuracy: 0.9560\n",
            "Epoch 16/50\n",
            "12/12 [==============================] - 0s 5ms/step - loss: 0.0360 - accuracy: 0.9890 - val_loss: 0.1072 - val_accuracy: 0.9560\n",
            "Epoch 17/50\n",
            "12/12 [==============================] - 0s 4ms/step - loss: 0.0335 - accuracy: 0.9890 - val_loss: 0.1055 - val_accuracy: 0.9560\n",
            "Epoch 18/50\n",
            "12/12 [==============================] - 0s 6ms/step - loss: 0.0310 - accuracy: 0.9890 - val_loss: 0.1048 - val_accuracy: 0.9560\n",
            "Epoch 19/50\n",
            "12/12 [==============================] - 0s 7ms/step - loss: 0.0293 - accuracy: 0.9918 - val_loss: 0.1094 - val_accuracy: 0.9560\n",
            "Epoch 20/50\n",
            "12/12 [==============================] - 0s 6ms/step - loss: 0.0267 - accuracy: 0.9918 - val_loss: 0.1079 - val_accuracy: 0.9560\n",
            "Epoch 21/50\n",
            "12/12 [==============================] - 0s 7ms/step - loss: 0.0244 - accuracy: 0.9918 - val_loss: 0.1062 - val_accuracy: 0.9560\n",
            "Epoch 22/50\n",
            "12/12 [==============================] - 0s 7ms/step - loss: 0.0225 - accuracy: 0.9945 - val_loss: 0.1065 - val_accuracy: 0.9560\n",
            "Epoch 23/50\n",
            "12/12 [==============================] - 0s 11ms/step - loss: 0.0208 - accuracy: 0.9945 - val_loss: 0.1052 - val_accuracy: 0.9560\n",
            "Epoch 24/50\n",
            "12/12 [==============================] - 0s 12ms/step - loss: 0.0198 - accuracy: 0.9945 - val_loss: 0.1079 - val_accuracy: 0.9451\n",
            "Epoch 25/50\n",
            "12/12 [==============================] - 0s 11ms/step - loss: 0.0179 - accuracy: 0.9945 - val_loss: 0.1062 - val_accuracy: 0.9451\n",
            "Epoch 26/50\n",
            "12/12 [==============================] - 0s 12ms/step - loss: 0.0166 - accuracy: 0.9945 - val_loss: 0.1049 - val_accuracy: 0.9451\n",
            "Epoch 27/50\n",
            "12/12 [==============================] - 0s 4ms/step - loss: 0.0153 - accuracy: 0.9945 - val_loss: 0.1069 - val_accuracy: 0.9451\n",
            "Epoch 28/50\n",
            "12/12 [==============================] - 0s 4ms/step - loss: 0.0142 - accuracy: 0.9945 - val_loss: 0.1068 - val_accuracy: 0.9451\n",
            "Epoch 29/50\n",
            "12/12 [==============================] - 0s 4ms/step - loss: 0.0132 - accuracy: 0.9973 - val_loss: 0.1082 - val_accuracy: 0.9341\n",
            "Epoch 30/50\n",
            "12/12 [==============================] - 0s 4ms/step - loss: 0.0123 - accuracy: 0.9973 - val_loss: 0.1079 - val_accuracy: 0.9341\n",
            "Epoch 31/50\n",
            "12/12 [==============================] - 0s 4ms/step - loss: 0.0115 - accuracy: 0.9973 - val_loss: 0.1090 - val_accuracy: 0.9341\n",
            "Epoch 32/50\n",
            "12/12 [==============================] - 0s 5ms/step - loss: 0.0107 - accuracy: 0.9973 - val_loss: 0.1106 - val_accuracy: 0.9341\n",
            "Epoch 33/50\n",
            "12/12 [==============================] - 0s 6ms/step - loss: 0.0099 - accuracy: 1.0000 - val_loss: 0.1089 - val_accuracy: 0.9341\n",
            "Epoch 34/50\n",
            "12/12 [==============================] - 0s 6ms/step - loss: 0.0093 - accuracy: 1.0000 - val_loss: 0.1096 - val_accuracy: 0.9341\n",
            "Epoch 35/50\n",
            "12/12 [==============================] - 0s 5ms/step - loss: 0.0087 - accuracy: 1.0000 - val_loss: 0.1120 - val_accuracy: 0.9341\n",
            "Epoch 36/50\n",
            "12/12 [==============================] - 0s 4ms/step - loss: 0.0081 - accuracy: 1.0000 - val_loss: 0.1108 - val_accuracy: 0.9341\n",
            "Epoch 37/50\n",
            "12/12 [==============================] - 0s 6ms/step - loss: 0.0075 - accuracy: 1.0000 - val_loss: 0.1118 - val_accuracy: 0.9341\n",
            "Epoch 38/50\n",
            "12/12 [==============================] - 0s 4ms/step - loss: 0.0072 - accuracy: 1.0000 - val_loss: 0.1136 - val_accuracy: 0.9341\n",
            "Epoch 39/50\n",
            "12/12 [==============================] - 0s 6ms/step - loss: 0.0067 - accuracy: 1.0000 - val_loss: 0.1105 - val_accuracy: 0.9451\n",
            "Epoch 40/50\n",
            "12/12 [==============================] - 0s 6ms/step - loss: 0.0066 - accuracy: 1.0000 - val_loss: 0.1124 - val_accuracy: 0.9560\n",
            "Epoch 41/50\n",
            "12/12 [==============================] - 0s 5ms/step - loss: 0.0060 - accuracy: 1.0000 - val_loss: 0.1130 - val_accuracy: 0.9341\n",
            "Epoch 42/50\n",
            "12/12 [==============================] - 0s 5ms/step - loss: 0.0055 - accuracy: 1.0000 - val_loss: 0.1152 - val_accuracy: 0.9341\n",
            "Epoch 43/50\n",
            "12/12 [==============================] - 0s 4ms/step - loss: 0.0052 - accuracy: 1.0000 - val_loss: 0.1187 - val_accuracy: 0.9451\n",
            "Epoch 44/50\n",
            "12/12 [==============================] - 0s 6ms/step - loss: 0.0049 - accuracy: 1.0000 - val_loss: 0.1163 - val_accuracy: 0.9451\n",
            "Epoch 45/50\n",
            "12/12 [==============================] - 0s 4ms/step - loss: 0.0046 - accuracy: 1.0000 - val_loss: 0.1172 - val_accuracy: 0.9451\n",
            "Epoch 46/50\n",
            "12/12 [==============================] - 0s 6ms/step - loss: 0.0044 - accuracy: 1.0000 - val_loss: 0.1178 - val_accuracy: 0.9560\n",
            "Epoch 47/50\n",
            "12/12 [==============================] - 0s 6ms/step - loss: 0.0041 - accuracy: 1.0000 - val_loss: 0.1196 - val_accuracy: 0.9451\n",
            "Epoch 48/50\n",
            "12/12 [==============================] - 0s 4ms/step - loss: 0.0037 - accuracy: 1.0000 - val_loss: 0.1239 - val_accuracy: 0.9451\n",
            "Epoch 49/50\n",
            "12/12 [==============================] - 0s 5ms/step - loss: 0.0035 - accuracy: 1.0000 - val_loss: 0.1225 - val_accuracy: 0.9451\n",
            "Epoch 50/50\n",
            "12/12 [==============================] - 0s 6ms/step - loss: 0.0033 - accuracy: 1.0000 - val_loss: 0.1262 - val_accuracy: 0.9451\n"
          ]
        },
        {
          "output_type": "execute_result",
          "data": {
            "text/plain": [
              "<keras.src.callbacks.History at 0x79d4b0475240>"
            ]
          },
          "metadata": {},
          "execution_count": 5
        }
      ]
    },
    {
      "cell_type": "markdown",
      "source": [
        "**Evaluate the model**"
      ],
      "metadata": {
        "id": "UaJZI1ssS-bc"
      }
    },
    {
      "cell_type": "code",
      "source": [
        "# Make predictions on the test set\n",
        "y_pred = (model.predict(X_test) > 0.5).astype(int)\n",
        "\n",
        "# Calculate accuracy and confusion matrix\n",
        "accuracy = accuracy_score(y_test, y_pred)\n",
        "confusion = confusion_matrix(y_test, y_pred)\n",
        "\n",
        "print(\"Predictions:\")\n",
        "for i in range(len(y_test)):\n",
        "    print(f\"Actual: {y_test.iloc[i]}, Predicted: {y_pred[i][0]}\")\n",
        "\n",
        "print(f\"Accuracy: {accuracy}\")\n",
        "print(\"Confusion Matrix:\")\n",
        "print(confusion)\n"
      ],
      "metadata": {
        "colab": {
          "base_uri": "https://localhost:8080/"
        },
        "id": "FJm9elxtRWfp",
        "outputId": "b9a71350-38e1-422a-802f-e33d60b7ebf9"
      },
      "execution_count": 7,
      "outputs": [
        {
          "output_type": "stream",
          "name": "stdout",
          "text": [
            "4/4 [==============================] - 0s 3ms/step\n",
            "Predictions:\n",
            "Actual: 0, Predicted: 0\n",
            "Actual: 1, Predicted: 1\n",
            "Actual: 1, Predicted: 1\n",
            "Actual: 0, Predicted: 0\n",
            "Actual: 0, Predicted: 0\n",
            "Actual: 1, Predicted: 1\n",
            "Actual: 1, Predicted: 1\n",
            "Actual: 1, Predicted: 1\n",
            "Actual: 0, Predicted: 0\n",
            "Actual: 0, Predicted: 0\n",
            "Actual: 0, Predicted: 0\n",
            "Actual: 1, Predicted: 1\n",
            "Actual: 0, Predicted: 0\n",
            "Actual: 1, Predicted: 1\n",
            "Actual: 0, Predicted: 0\n",
            "Actual: 1, Predicted: 1\n",
            "Actual: 0, Predicted: 0\n",
            "Actual: 0, Predicted: 0\n",
            "Actual: 0, Predicted: 0\n",
            "Actual: 1, Predicted: 1\n",
            "Actual: 1, Predicted: 0\n",
            "Actual: 0, Predicted: 0\n",
            "Actual: 1, Predicted: 1\n",
            "Actual: 0, Predicted: 0\n",
            "Actual: 0, Predicted: 0\n",
            "Actual: 0, Predicted: 0\n",
            "Actual: 0, Predicted: 0\n",
            "Actual: 0, Predicted: 0\n",
            "Actual: 0, Predicted: 0\n",
            "Actual: 1, Predicted: 1\n",
            "Actual: 0, Predicted: 0\n",
            "Actual: 0, Predicted: 0\n",
            "Actual: 0, Predicted: 0\n",
            "Actual: 0, Predicted: 0\n",
            "Actual: 0, Predicted: 0\n",
            "Actual: 0, Predicted: 0\n",
            "Actual: 1, Predicted: 1\n",
            "Actual: 0, Predicted: 0\n",
            "Actual: 1, Predicted: 1\n",
            "Actual: 0, Predicted: 0\n",
            "Actual: 0, Predicted: 0\n",
            "Actual: 1, Predicted: 1\n",
            "Actual: 0, Predicted: 0\n",
            "Actual: 0, Predicted: 0\n",
            "Actual: 0, Predicted: 0\n",
            "Actual: 0, Predicted: 0\n",
            "Actual: 0, Predicted: 0\n",
            "Actual: 0, Predicted: 0\n",
            "Actual: 0, Predicted: 0\n",
            "Actual: 0, Predicted: 0\n",
            "Actual: 1, Predicted: 1\n",
            "Actual: 1, Predicted: 1\n",
            "Actual: 0, Predicted: 0\n",
            "Actual: 0, Predicted: 0\n",
            "Actual: 0, Predicted: 0\n",
            "Actual: 0, Predicted: 0\n",
            "Actual: 0, Predicted: 0\n",
            "Actual: 1, Predicted: 1\n",
            "Actual: 1, Predicted: 1\n",
            "Actual: 0, Predicted: 0\n",
            "Actual: 0, Predicted: 0\n",
            "Actual: 1, Predicted: 1\n",
            "Actual: 1, Predicted: 1\n",
            "Actual: 0, Predicted: 0\n",
            "Actual: 0, Predicted: 0\n",
            "Actual: 0, Predicted: 0\n",
            "Actual: 1, Predicted: 1\n",
            "Actual: 1, Predicted: 1\n",
            "Actual: 0, Predicted: 0\n",
            "Actual: 0, Predicted: 0\n",
            "Actual: 1, Predicted: 1\n",
            "Actual: 1, Predicted: 1\n",
            "Actual: 0, Predicted: 0\n",
            "Actual: 1, Predicted: 1\n",
            "Actual: 0, Predicted: 0\n",
            "Actual: 0, Predicted: 0\n",
            "Actual: 0, Predicted: 0\n",
            "Actual: 1, Predicted: 0\n",
            "Actual: 0, Predicted: 0\n",
            "Actual: 0, Predicted: 0\n",
            "Actual: 1, Predicted: 1\n",
            "Actual: 0, Predicted: 0\n",
            "Actual: 1, Predicted: 0\n",
            "Actual: 1, Predicted: 1\n",
            "Actual: 1, Predicted: 1\n",
            "Actual: 1, Predicted: 1\n",
            "Actual: 1, Predicted: 1\n",
            "Actual: 1, Predicted: 1\n",
            "Actual: 0, Predicted: 0\n",
            "Actual: 0, Predicted: 0\n",
            "Actual: 0, Predicted: 0\n",
            "Actual: 0, Predicted: 0\n",
            "Actual: 0, Predicted: 0\n",
            "Actual: 0, Predicted: 0\n",
            "Actual: 0, Predicted: 0\n",
            "Actual: 0, Predicted: 0\n",
            "Actual: 1, Predicted: 1\n",
            "Actual: 1, Predicted: 1\n",
            "Actual: 0, Predicted: 0\n",
            "Actual: 1, Predicted: 1\n",
            "Actual: 1, Predicted: 1\n",
            "Actual: 0, Predicted: 0\n",
            "Actual: 1, Predicted: 1\n",
            "Actual: 1, Predicted: 1\n",
            "Actual: 0, Predicted: 0\n",
            "Actual: 0, Predicted: 0\n",
            "Actual: 0, Predicted: 0\n",
            "Actual: 1, Predicted: 1\n",
            "Actual: 0, Predicted: 0\n",
            "Actual: 0, Predicted: 0\n",
            "Actual: 1, Predicted: 1\n",
            "Actual: 0, Predicted: 0\n",
            "Actual: 0, Predicted: 0\n",
            "Actual: 1, Predicted: 1\n",
            "Accuracy: 0.9736842105263158\n",
            "Confusion Matrix:\n",
            "[[71  0]\n",
            " [ 3 40]]\n"
          ]
        }
      ]
    },
    {
      "cell_type": "code",
      "source": [],
      "metadata": {
        "id": "oltPeFwHRZy7"
      },
      "execution_count": null,
      "outputs": []
    }
  ]
}
